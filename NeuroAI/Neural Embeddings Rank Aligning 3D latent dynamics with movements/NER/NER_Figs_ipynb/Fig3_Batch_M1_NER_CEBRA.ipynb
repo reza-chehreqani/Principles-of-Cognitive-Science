{
 "cells": [
  {
   "cell_type": "code",
   "execution_count": 1,
   "id": "f617ecc5",
   "metadata": {},
   "outputs": [
    {
     "name": "stdout",
     "output_type": "stream",
     "text": [
      "Using device: cuda:0\n"
     ]
    }
   ],
   "source": [
    "### same to \"Batch_M1_0506\"\n",
    "import sys\n",
    "import os\n",
    "import numpy as np\n",
    "import pandas as pd\n",
    "import matplotlib.pyplot as plt\n",
    "import joblib as jl\n",
    "import cebra.datasets\n",
    "from cebra import CEBRA\n",
    "import scipy.io as sio\n",
    "from sklearn.neighbors import KNeighborsRegressor, KNeighborsClassifier\n",
    "from sklearn.model_selection import GridSearchCV\n",
    "import sklearn.metrics\n",
    "import torch\n",
    "device = torch.device(\"cuda:0\" if torch.cuda.is_available() else \"cpu\") ### select either 0 or 1\n",
    "print(f'Using device: {device}')"
   ]
  },
  {
   "cell_type": "code",
   "execution_count": 2,
   "id": "122b7983",
   "metadata": {
    "scrolled": true
   },
   "outputs": [
    {
     "name": "stdout",
     "output_type": "stream",
     "text": [
      "./data/Chewie_20161014_embed_5000itr_M1.npz\n"
     ]
    },
    {
     "name": "stderr",
     "output_type": "stream",
     "text": [
      "pos: -0.8945 neg:  6.4037 total:  5.5091 temperature:  1.0000: 100%|█| 5000/5000\n",
      "No artists with labels found to put in legend.  Note that artists whose label start with an underscore are ignored when legend() is called with no argument.\n"
     ]
    }
   ],
   "source": [
    "dur = 40\n",
    "iterations = 5000\n",
    "output_dimension = 3\n",
    "cebra_veldir_model = CEBRA(model_architecture='offset1-model',\n",
    "                           batch_size=512,\n",
    "                           learning_rate = 0.0001,\n",
    "                           temperature = 1,\n",
    "                           output_dimension = output_dimension,\n",
    "                           max_iterations=iterations,\n",
    "                           distance='cosine',\n",
    "                           conditional='time_delta',\n",
    "                           device=\"cuda:1\", ### 'cuda_if_available'\n",
    "                           verbose=True,\n",
    "                           time_offsets=1)\n",
    "def split_data(neural, continuous_index, train_trial):\n",
    "            split_idx = train_trial*dur \n",
    "            neural_train = neural[:split_idx]\n",
    "            neural_test = neural[split_idx:]\n",
    "            continuous_index_train = continuous_index[:split_idx]\n",
    "            continuous_index_test = continuous_index[split_idx:]\n",
    "            return neural_train,neural_test,continuous_index_train,continuous_index_test\n",
    "        \n",
    "angle_to_new_value = {-180: 4,-135: 5,-90: 6,-45: 7,0: 0,45: 1,90: 2,135: 3,180: 4}\n",
    "\n",
    "directory = \"./data/SU_16M1/\"\n",
    "files = os.listdir(directory)\n",
    "for file in files:\n",
    "    if \"Chewie\" in file: ### \"Chewie\" or \"Mihili\" in file \n",
    "        mat_contents = sio.loadmat(os.path.join(directory, file))\n",
    "        filename_parts = file.split(\"_neural_con_dis_index\")\n",
    "        new_filename = filename_parts[0] + \"_embed_\"+str(iterations)+\"itr_M1.npz\"\n",
    "        file_save = os.path.join(directory, new_filename)\n",
    "        print(file_save)\n",
    "\n",
    "        neural = mat_contents['neural_M1']\n",
    "        continuous_index_2d = mat_contents['continuous_index']*10\n",
    "        discrete_index = mat_contents['discrete_index']\n",
    "        \n",
    "        vectorized_map = np.vectorize(lambda x: angle_to_new_value[x])\n",
    "        discrete_index = vectorized_map(discrete_index)\n",
    "        continuous_index = np.hstack((continuous_index_2d, discrete_index*45))\n",
    "        total_trial = int(discrete_index.shape[0]/dur)\n",
    "        train_trial = int(total_trial*0.8)\n",
    "        test_trial = total_trial-train_trial\n",
    "        \n",
    "        neural_train, neural_test, continuous_index_train, continuous_index_test = split_data(neural, continuous_index, train_trial)\n",
    "        target_angle_train = continuous_index_train[:, 2].copy()\n",
    "        target_angle_test = continuous_index_test[:, 2].copy()\n",
    "        cebra_veldir_model.fit(neural_train, continuous_index_train)\n",
    "        cebra_veldir_train = cebra_veldir_model.transform(neural_train)\n",
    "        cebra_veldir_test  = cebra_veldir_model.transform(neural_test)\n",
    " \n",
    "        train_loss = cebra_veldir_model.state_dict_['loss']\n",
    "#         train_loss_stable = train_loss[-10:].numpy()\n",
    "#         fig = plt.figure(figsize=(6,5))\n",
    "#         ax = plt.subplot(111)\n",
    "#         ax.plot(train_loss, c='deepskyblue')\n",
    "#         ax.spines['top'].set_visible(False)\n",
    "#         ax.spines['right'].set_visible(False)\n",
    "#         ax.set_xlabel('Iterations')\n",
    "#         ax.set_ylabel('RnC Loss')\n",
    "#         plt.legend(bbox_to_anchor=(0.5,0.3), frameon = False )\n",
    "#         plt.title('iterations='+str(iterations)+'  final loss='+str(np.mean(train_loss_stable)))\n",
    "#         new_filename = filename_parts[0] + \"_train_loss_\"+str(iterations)+\"itr.pdf\" \n",
    "#         output_path = os.path.join(directory, new_filename)\n",
    "#         plt.savefig(output_path)\n",
    "#         plt.close(fig)\n",
    "\n",
    "        np.savez(file_save,\n",
    "                 train_loss_stable=train_loss,\n",
    "                 cebra_veldir_train=cebra_veldir_train,\n",
    "                 cebra_veldir_test=cebra_veldir_test,\n",
    "                 continuous_index_train=continuous_index_train,\n",
    "                 continuous_index_test=continuous_index_test)"
   ]
  },
  {
   "cell_type": "code",
   "execution_count": null,
   "id": "67edfe50",
   "metadata": {},
   "outputs": [],
   "source": []
  }
 ],
 "metadata": {
  "kernelspec": {
   "display_name": "Python 3 (ipykernel)",
   "language": "python",
   "name": "python3"
  },
  "language_info": {
   "codemirror_mode": {
    "name": "ipython",
    "version": 3
   },
   "file_extension": ".py",
   "mimetype": "text/x-python",
   "name": "python",
   "nbconvert_exporter": "python",
   "pygments_lexer": "ipython3",
   "version": "3.8.18"
  },
  "vscode": {
   "interpreter": {
    "hash": "dc327929684d2c13e929b2699e1b37518dbb61b921da51c352c926069002ee0e"
   }
  }
 },
 "nbformat": 4,
 "nbformat_minor": 5
}
