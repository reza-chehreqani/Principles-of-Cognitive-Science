{
 "cells": [
  {
   "cell_type": "code",
   "execution_count": 1,
   "id": "f617ecc5",
   "metadata": {},
   "outputs": [
    {
     "name": "stdout",
     "output_type": "stream",
     "text": [
      "Using device: cuda:1\n"
     ]
    }
   ],
   "source": [
    "import sys\n",
    "import os\n",
    "import torch\n",
    "import numpy as np\n",
    "import pandas as pd\n",
    "import matplotlib.pyplot as plt\n",
    "import joblib as jl\n",
    "import cebra.datasets\n",
    "from cebra import CEBRA\n",
    "import scipy.io as sio\n",
    "from sklearn.neighbors import KNeighborsRegressor, KNeighborsClassifier\n",
    "from sklearn.model_selection import GridSearchCV\n",
    "import sklearn.metrics\n",
    "device = torch.device(\"cuda:1\" if torch.cuda.is_available() else \"cpu\") ### select either 0 or 1\n",
    "print(f'Using device: {device}')"
   ]
  },
  {
   "cell_type": "code",
   "execution_count": 2,
   "id": "122b7983",
   "metadata": {
    "scrolled": true
   },
   "outputs": [
    {
     "name": "stdout",
     "output_type": "stream",
     "text": [
      "./data/Han_20171207_embed_20000itr_S1.npz\n"
     ]
    },
    {
     "name": "stderr",
     "output_type": "stream",
     "text": [
      "pos: -0.8666 neg:  6.4072 total:  5.5406 temperature:  1.0000: 100%|█| 20000/200\n",
      "No artists with labels found to put in legend.  Note that artists whose label start with an underscore are ignored when legend() is called with no argument.\n"
     ]
    },
    {
     "name": "stdout",
     "output_type": "stream",
     "text": [
      "./data/Han_20171201_embed_20000itr_S1.npz\n"
     ]
    },
    {
     "name": "stderr",
     "output_type": "stream",
     "text": [
      "pos: -0.8445 neg:  6.4041 total:  5.5596 temperature:  1.0000: 100%|█| 20000/200\n",
      "No artists with labels found to put in legend.  Note that artists whose label start with an underscore are ignored when legend() is called with no argument.\n"
     ]
    },
    {
     "name": "stdout",
     "output_type": "stream",
     "text": [
      "./data/Han_20171204_embed_20000itr_S1.npz\n"
     ]
    },
    {
     "name": "stderr",
     "output_type": "stream",
     "text": [
      "pos: -0.8695 neg:  6.4149 total:  5.5454 temperature:  1.0000: 100%|█| 20000/200\n",
      "No artists with labels found to put in legend.  Note that artists whose label start with an underscore are ignored when legend() is called with no argument.\n"
     ]
    }
   ],
   "source": [
    "dur = 35\n",
    "iterations = 20000\n",
    "output_dimension = 3\n",
    "cebra_veldir_model = CEBRA(model_architecture='offset1-model',\n",
    "                           batch_size=512,\n",
    "                           learning_rate = 0.0001,\n",
    "                           temperature = 1,\n",
    "                           output_dimension = output_dimension,\n",
    "                           max_iterations=iterations,\n",
    "                           distance='cosine',\n",
    "                           conditional='time_delta',\n",
    "                           device='cuda_if_available',\n",
    "                           verbose=True,\n",
    "                           time_offsets=1)\n",
    "def split_data(neural, continuous_index, train_trial):\n",
    "            split_idx = train_trial*dur \n",
    "            neural_train = neural[:split_idx]\n",
    "            neural_test = neural[split_idx:]\n",
    "            continuous_index_train = continuous_index[:split_idx]\n",
    "            continuous_index_test = continuous_index[split_idx:]\n",
    "            return neural_train,neural_test,continuous_index_train,continuous_index_test\n",
    "        \n",
    "directory = \"./data/SU_3S1/\"\n",
    "files = os.listdir(directory)\n",
    "for file in files:\n",
    "    if \"Han\" in file or \"Lando\" in file: ### \n",
    "        mat_contents = sio.loadmat(os.path.join(directory, file))\n",
    "        filename_parts = file.split(\"_neural_con_dis_index\")\n",
    "        new_filename = filename_parts[0] + \"_embed_\"+str(iterations)+\"itr_S1.npz\"\n",
    "        file_save = os.path.join(directory, new_filename)\n",
    "        print(file_save)\n",
    "\n",
    "        neural = mat_contents['neural_S1']\n",
    "        continuous_index_2d = mat_contents['continuous_index']*10\n",
    "        discrete_index = mat_contents['discrete_index'].astype(int)*45 ### must change data-type here\n",
    "        \n",
    "        continuous_index = np.hstack((continuous_index_2d, discrete_index))\n",
    "        total_trial = int(discrete_index.shape[0]/dur)\n",
    "        train_trial = int(total_trial*0.8)\n",
    "        test_trial = total_trial-train_trial\n",
    "        \n",
    "        neural_train, neural_test, continuous_index_train, continuous_index_test = split_data(neural, continuous_index, train_trial)\n",
    "        target_angle_train = continuous_index_train[:, 2].copy()\n",
    "        target_angle_test = continuous_index_test[:, 2].copy()\n",
    "        cebra_veldir_model.fit(neural_train, continuous_index_train)\n",
    "        cebra_veldir_train = cebra_veldir_model.transform(neural_train)\n",
    "        cebra_veldir_test  = cebra_veldir_model.transform(neural_test)\n",
    "\n",
    "        fig = plt.figure(figsize=(6,5))\n",
    "        ax = plt.subplot(111)\n",
    "        train_loss = cebra_veldir_model.state_dict_['loss']\n",
    "        train_loss_stable = train_loss[-10:].numpy()\n",
    "        ax.plot(train_loss, c='deepskyblue')\n",
    "        ax.spines['top'].set_visible(False)\n",
    "        ax.spines['right'].set_visible(False)\n",
    "        ax.set_xlabel('Iterations')\n",
    "        ax.set_ylabel('RnC Loss')\n",
    "        plt.legend(bbox_to_anchor=(0.5,0.3), frameon = False )\n",
    "        plt.title('iterations='+str(iterations)+'  final loss='+str(np.mean(train_loss_stable)))\n",
    "        new_filename = filename_parts[0] + \"_train_loss_\"+str(iterations)+\"itr.pdf\" \n",
    "        output_path = os.path.join(directory, new_filename)\n",
    "        plt.savefig(output_path)\n",
    "        plt.close(fig)\n",
    "\n",
    "        initial_positions = np.zeros((train_trial, 1, 2))\n",
    "        velocity_reshaped = continuous_index_train[:, 0:2].reshape(train_trial, dur, 2)\n",
    "        displacements = np.cumsum(velocity_reshaped, axis=1)\n",
    "        locations = initial_positions + displacements\n",
    "        pos_truth = locations.reshape(train_trial*dur, 2)\n",
    "        truth_XY = pos_truth[:, 0:2]\n",
    "\n",
    "        knr = GridSearchCV(KNeighborsRegressor(), {'n_neighbors': [2,4,8,16,32,64,128,256,512,1024]}, n_jobs=8)\n",
    "        knr.fit(cebra_veldir_train, continuous_index_train[:, 0:2]) \n",
    "        pred_vel = knr.predict(cebra_veldir_train) \n",
    "        knc = GridSearchCV(KNeighborsClassifier(), {'n_neighbors': [2,4,8,16,32,64,128,256,512,1024]}, n_jobs=8)\n",
    "        knc.fit(cebra_veldir_train, target_angle_train)\n",
    "        pred_dir = knc.predict(cebra_veldir_train)\n",
    "\n",
    "        velocity_reshaped = pred_vel.reshape(train_trial, dur, 2)\n",
    "        displacements = np.cumsum(velocity_reshaped, axis=1)\n",
    "        locations = initial_positions + displacements\n",
    "        pred_XY = locations.reshape(train_trial*dur, 2)\n",
    "        \n",
    "        posi_r2 = sklearn.metrics.r2_score(truth_XY, pred_XY) ### proportion of total variation explained by model\n",
    "        vel_r2 = sklearn.metrics.r2_score(continuous_index_train[:, 0:2], pred_vel)\n",
    "        \n",
    "        differences = abs(pred_dir - target_angle_train)\n",
    "        angle_diffs = np.where(differences > 180, 360 - differences, differences)\n",
    "        fig = plt.figure(figsize=(10, 5))\n",
    "        ax1 = plt.subplot(121)\n",
    "        ax1.scatter(truth_XY[:, 0], truth_XY[:, 1], alpha=1, color=plt.cm.hsv(1/360*target_angle_train), s=0.3)\n",
    "        ax1.spines[\"right\"].set_visible(False)\n",
    "        ax1.spines[\"top\"].set_visible(False)\n",
    "        plt.title('GridSearchCV-R2='+str(round(knr.best_score_,3))+' MAE='+str(round(np.mean(angle_diffs),1)))\n",
    "        \n",
    "        ax2 = plt.subplot(122)\n",
    "        ax2.scatter(pred_XY[:, 0], pred_XY[:, 1], alpha=1, color=plt.cm.hsv(1/360*pred_dir), s=0.3)\n",
    "        ax2.spines[\"right\"].set_visible(False)\n",
    "        ax2.spines[\"top\"].set_visible(False)\n",
    "        plt.title('True vs Pred-R2 vel='+str(round(vel_r2, 3))+' pos='+str(round(posi_r2, 3)))\n",
    "        new_filename = filename_parts[0] + \"_Decoding_\"+str(iterations)+\"itr.pdf\"\n",
    "        output_path = os.path.join(directory, new_filename)\n",
    "        plt.savefig(output_path)\n",
    "        plt.close(fig)\n",
    "        \n",
    "        idx1, idx2, idx3 = 0, 1, 2\n",
    "        fig = plt.figure(figsize=(10, 5), dpi=250)\n",
    "        ax = plt.subplot(121, projection = '3d')\n",
    "        x = ax.scatter(cebra_veldir_train[:, idx1],\n",
    "                       cebra_veldir_train[:, idx2],\n",
    "                       cebra_veldir_train[:, idx3],\n",
    "                       c=target_angle_train/360, ## [115800]\n",
    "                       cmap=plt.cm.hsv,\n",
    "                       edgecolors='none',\n",
    "                       alpha=0.75,\n",
    "                       s=0.3)\n",
    "        ax.grid(False)\n",
    "        ax.set_xticks([])\n",
    "        ax.set_yticks([])\n",
    "        ax.set_zticks([])\n",
    "        ax = plt.subplot(122, projection = '3d')\n",
    "        for i in range(8):\n",
    "            direction_trial = (target_angle_train//45 == i)\n",
    "            trial_avg = cebra_veldir_train[direction_trial, :].reshape(-1,dur,output_dimension).mean(axis=0)\n",
    "            ax.scatter(trial_avg[:, idx1], \n",
    "                       trial_avg[:, idx2],\n",
    "                       trial_avg[:, idx3],\n",
    "                       color=plt.cm.hsv(1 / 8 * i),\n",
    "                       edgecolors='none',\n",
    "                       alpha=0.75,\n",
    "                       s=3)\n",
    "            ax.plot(trial_avg[:, idx1], \n",
    "                trial_avg[:, idx2],\n",
    "                trial_avg[:, idx3],\n",
    "                color=plt.cm.hsv(1 / 8 * i), \n",
    "                linewidth=0.5,\n",
    "                alpha=0.75)  \n",
    "        ax.grid(False)\n",
    "        ax.set_xticks([])\n",
    "        ax.set_yticks([])\n",
    "        ax.set_zticks([])\n",
    "        new_filename = filename_parts[0] + \"_Embedding_\"+str(iterations)+\"itr.pdf\"\n",
    "        output_path = os.path.join(directory, new_filename)\n",
    "        plt.savefig(output_path)\n",
    "        plt.close(fig)\n",
    "\n",
    "        np.savez(file_save,\n",
    "                 train_loss_stable=train_loss,\n",
    "                 cebra_veldir_train=cebra_veldir_train,\n",
    "                 cebra_veldir_test=cebra_veldir_test,\n",
    "                 neural_train=neural_train,\n",
    "                 neural_test=neural_test,\n",
    "                 continuous_index_train=continuous_index_train,\n",
    "                 continuous_index_test=continuous_index_test)"
   ]
  },
  {
   "cell_type": "code",
   "execution_count": null,
   "id": "67edfe50",
   "metadata": {},
   "outputs": [],
   "source": []
  }
 ],
 "metadata": {
  "kernelspec": {
   "display_name": "Python 3 (ipykernel)",
   "language": "python",
   "name": "python3"
  },
  "language_info": {
   "codemirror_mode": {
    "name": "ipython",
    "version": 3
   },
   "file_extension": ".py",
   "mimetype": "text/x-python",
   "name": "python",
   "nbconvert_exporter": "python",
   "pygments_lexer": "ipython3",
   "version": "3.8.18"
  },
  "vscode": {
   "interpreter": {
    "hash": "dc327929684d2c13e929b2699e1b37518dbb61b921da51c352c926069002ee0e"
   }
  }
 },
 "nbformat": 4,
 "nbformat_minor": 5
}
